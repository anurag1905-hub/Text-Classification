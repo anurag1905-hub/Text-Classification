{
 "cells": [
  {
   "cell_type": "code",
   "execution_count": 2,
   "id": "0a5570ec",
   "metadata": {},
   "outputs": [],
   "source": [
    "#Import necessary modules\n",
    "import numpy as np\n",
    "import pandas as pd\n",
    "import operator\n",
    "import os\n",
    "from sklearn import model_selection\n",
    "import re"
   ]
  },
  {
   "cell_type": "code",
   "execution_count": 3,
   "id": "4ed33b39",
   "metadata": {},
   "outputs": [],
   "source": [
    "# These are the stop words collected from the internet. These words wont be a part of our vocabulary.\n",
    "stop_word=[\"a\",\"about\",\"above\",\"after\",\"again\",\"against\",\"all\",\"am\",\"an\",\"and\",\"any\",\"are\",\"as\",\"at\",\"be\",\"because\",\"been\",\"before\",\"being\",\"below\",\"between\",\"both\",\"but\",\n",
    "\"by\",\"could\",\"did\",\"do\",\"does\",\"doing\",\"down\",\"during\",\"each\",\"few\",\"for\",\"from\",\"further\",\"had\",\"has\",\"have\",\"having\",\"he\",\"he'd\",\"he'll\",\"he's\",\"her\",\n",
    "\"here\",\"here's\",\"hers\",\"herself\",\"him\",\"himself\",\"his\",\"how\",\"how's\",\"i\",\"i'd\",\"i'll\",\"i'm\",\"i've\",\"if\",\"in\",\"into\",\"is\",\"it\",\"it's\",\"its\",\"itself\",\"let's\",\"me\",\n",
    "\"more\",\"most\",\"my\",\"myself\",\"nor\",\"of\",\"on\",\"once\",\"only\",\"or\",\"other\",\"ought\",\"our\",\"ours\",\"ourselves\",\"out\",\"over\",\"own\",\"same\",\"she\",\n",
    "\"she'd\",\"she'll\",\"she's\",\"should\",\"so\",\"some\",\"such\",\"than\",\"that\",\"that's\",\"the\",\"their\",\"theirs\",\"them\",\"themselves\",\"then\",\"there\",\"there's\",\n",
    "\"these\",\"they\",\"they'd\",\"they'll\",\"they're\",\"they've\",\"this\",\"those\",\"through\",\"to\",\"too\",\"under\",\"until\",\"up\",\"very\",\"was\",\"we\",\"we'd\",\n",
    "\"we'll\",\"we're\",\"we've\",\"were\",\"what\",\"what's\",\"when\",\"when's\",\"where\",\"where's\",\"which\",\"while\",\"who\",\"who's\",\"whom\",\"why\",\"why's\",\"with\",\n",
    "\"would\",\"you\",\"you'd\",\"you'll\",\"you're\",\"you've\",\"your\",\"yours\",\"yourself\",\"yourselves\"]"
   ]
  },
  {
   "cell_type": "code",
   "execution_count": 4,
   "id": "abfb8bba",
   "metadata": {},
   "outputs": [],
   "source": [
    "X = []\n",
    "Y = []\n",
    "for category in os.listdir(\"./Datasets/\"):\n",
    "    for document in os.listdir(\"./Datasets/\"+category+\"/\"):\n",
    "        with open(\"./Datasets/\"+category+\"/\"+document,\"r\",encoding=\"latin1\") as f:\n",
    "            X.append((document,f.read()))\n",
    "            Y.append(category)\n",
    "            "
   ]
  },
  {
   "cell_type": "code",
   "execution_count": 5,
   "id": "198495c2",
   "metadata": {},
   "outputs": [],
   "source": [
    "from sklearn.model_selection import train_test_split\n",
    "X_train,X_test,Y_train,Y_test = train_test_split(X,Y)"
   ]
  },
  {
   "cell_type": "code",
   "execution_count": 6,
   "id": "0248b45f",
   "metadata": {},
   "outputs": [],
   "source": [
    "# Use a dictionary to store the frequency of each word.\n",
    "dic = {}\n",
    "for i in range(len(X_train)):\n",
    "    word = X_train[i][1].lower()\n",
    "    tokens = re.compile('\\w+').findall(word)\n",
    "    for s in tokens:\n",
    "        # We will not include stop_words, alpha-numerics, punctuations or irrelevant word of length less than 2 in our dictionary\n",
    "        if not(s.isalpha()) or s in stop_word or len(s) <=2:\n",
    "            continue\n",
    "        if s in dic:\n",
    "            dic[s]+=1\n",
    "        else:\n",
    "            dic[s] = 1"
   ]
  },
  {
   "cell_type": "code",
   "execution_count": 7,
   "id": "549cc60f",
   "metadata": {},
   "outputs": [],
   "source": [
    "# Sort the dictionary on basis of frequency of words in descending order.\n",
    "sorted_dic = sorted(dic.items(),key=operator.itemgetter(1),reverse=True)"
   ]
  },
  {
   "cell_type": "code",
   "execution_count": 8,
   "id": "4952743b",
   "metadata": {},
   "outputs": [
    {
     "data": {
      "image/png": "[encoded data removed]",
      "text/plain": [
       "<Figure size 432x288 with 1 Axes>"
      ]
     },
     "metadata": {
      "needs_background": "light"
     },
     "output_type": "display_data"
    }
   ],
   "source": [
    "# Use matplotlib to plot a curve between number of words and their frequencies.\n",
    "import matplotlib.pyplot as plt\n",
    "r1 = []\n",
    "r2 = []\n",
    "for i in range(len(sorted_dic)):\n",
    "    r1.append(i)\n",
    "    r2.append(sorted_dic[i][1])\n",
    "plt.plot(r1,r2)\n",
    "plt.axis([0,9000,1,1000])\n",
    "plt.grid()\n",
    "plt.show()"
   ]
  },
  {
   "cell_type": "code",
   "execution_count": 9,
   "id": "5ac9fb45",
   "metadata": {},
   "outputs": [],
   "source": [
    "# On basis of graph we decide to take first 2000 words.\n",
    "final_words = [sorted_dic[i][0] for i in range(2000)]"
   ]
  },
  {
   "cell_type": "code",
   "execution_count": 10,
   "id": "80ec481f",
   "metadata": {},
   "outputs": [],
   "source": [
    "# Making X_train_dataset.\n",
    "# No of rows = no of rows in X_train and number of columns = number of final_words\n",
    "X_train_dataset = np.zeros([len(X_train),len(final_words)],int)\n",
    "for i in range(len(X_train)):\n",
    "    word = X_train[i][1].lower()\n",
    "    tokens = re.compile('\\w+').findall(word)\n",
    "    for s in tokens:\n",
    "        if s in final_words:\n",
    "            X_train_dataset[i][final_words.index(s)]+=1"
   ]
  },
  {
   "cell_type": "code",
   "execution_count": 11,
   "id": "0b3b5f17",
   "metadata": {},
   "outputs": [],
   "source": [
    "# Making X_test_dataset\n",
    "# No of rows = no of rows in X_test and number of columns = number of final_words\n",
    "X_test_dataset = np.zeros([len(X_test),len(final_words)],int)\n",
    "for i in range(len(X_test)):\n",
    "    word = X_test[i][1].lower()\n",
    "    tokens = re.compile('\\w+').findall(word)\n",
    "    for s in tokens:\n",
    "        if s in final_words:\n",
    "            X_test_dataset[i][final_words.index(s)]+=1"
   ]
  },
  {
   "cell_type": "markdown",
   "id": "97e68c63",
   "metadata": {},
   "source": [
    "## 1. Using Sklearn's implementation of Naive Bayes "
   ]
  },
  {
   "cell_type": "code",
   "execution_count": 12,
   "id": "e6d12a1d",
   "metadata": {},
   "outputs": [],
   "source": [
    "from sklearn.metrics import classification_report,confusion_matrix\n",
    "from sklearn.naive_bayes import MultinomialNB"
   ]
  },
  {
   "cell_type": "code",
   "execution_count": 13,
   "id": "f8ed2280",
   "metadata": {},
   "outputs": [
    {
     "name": "stdout",
     "output_type": "stream",
     "text": [
      "Score on training data: 0.893712075748483\n",
      "Score on testing data: 0.8554\n",
      "[[220   0   0   0   0   0   2   4   1   0   1   0   1   0   0   3   0   4\n",
      "    0  32]\n",
      " [  0 198  13  14  10   7   8   4   0   0   0   0   7   1   1   0   0   0\n",
      "    0   0]\n",
      " [  0   2 212  13   2  12   3   1   0   0   0   0   0   0   0   0   0   0\n",
      "    0   0]\n",
      " [  0   5   6 184  34   1   7   0   1   0   0   0   3   0   0   0   0   0\n",
      "    0   0]\n",
      " [  0   3   2  18 207   0   5   0   0   0   0   0   4   0   1   0   0   0\n",
      "    0   0]\n",
      " [  0  20  37   9   8 179   2   1   2   0   0   0   2   0   1   0   0   0\n",
      "    0   0]\n",
      " [  0   0   1   3   1   1 237   5   0   0   0   0   1   0   2   0   0   0\n",
      "    0   0]\n",
      " [  0   0   0   0   1   0   7 244   4   0   0   0   4   0   0   0   0   0\n",
      "    0   0]\n",
      " [  0   0   0   0   0   1   4   5 240   0   0   0   0   0   0   0   0   0\n",
      "    0   0]\n",
      " [  0   0   0   0   0   0   1   3   6 248  12   0   0   0   0   0   1   0\n",
      "    0   0]\n",
      " [  0   0   0   0   0   0   2   1   4  12 220   0   0   0   1   0   0   0\n",
      "    0   0]\n",
      " [  1   1   0   0   1   0   0   0   1   0   0 224   4   1   0   0   0   0\n",
      "    1   1]\n",
      " [  0   1   0   3   7   0   3   5   2   0   0   0 218   2   1   0   0   0\n",
      "    0   0]\n",
      " [  0   4   0   1   5   1   5   4   5   0   0   1   8 218   3   0   0   0\n",
      "    0   0]\n",
      " [  0   4   0   1   0   0   0   1   0   0   2   0   4   0 227   0   1   0\n",
      "    1   0]\n",
      " [  0   0   0   0   0   0   0   0   0   0   0   0   0   0   0 254   0   2\n",
      "    0   0]\n",
      " [  0   0   0   0   1   0   0   0   1   0   0   3   0   0   0   0 214   0\n",
      "   12   3]\n",
      " [  0   0   0   0   1   0   3   2   4   0   1   0   0   0   0   0   7 221\n",
      "   19   1]\n",
      " [  0   0   0   0   0   0   1   0   1   2   0   4   0   0   2   0  25  12\n",
      "  164  25]\n",
      " [ 68   1   0   0   0   0   0   1   0   0   0   0   0   0   0   7  13   1\n",
      "   13 148]]\n",
      "                          precision    recall  f1-score   support\n",
      "\n",
      "             alt.atheism       0.76      0.82      0.79       268\n",
      "           comp.graphics       0.83      0.75      0.79       263\n",
      " comp.os.ms-windows.misc       0.78      0.87      0.82       245\n",
      "comp.sys.ibm.pc.hardware       0.75      0.76      0.76       241\n",
      "   comp.sys.mac.hardware       0.74      0.86      0.80       240\n",
      "          comp.windows.x       0.89      0.69      0.77       261\n",
      "            misc.forsale       0.82      0.94      0.88       251\n",
      "               rec.autos       0.87      0.94      0.90       260\n",
      "         rec.motorcycles       0.88      0.96      0.92       250\n",
      "      rec.sport.baseball       0.95      0.92      0.93       271\n",
      "        rec.sport.hockey       0.93      0.92      0.92       240\n",
      "               sci.crypt       0.97      0.95      0.96       235\n",
      "         sci.electronics       0.85      0.90      0.88       242\n",
      "                 sci.med       0.98      0.85      0.91       255\n",
      "               sci.space       0.95      0.94      0.95       241\n",
      "  soc.religion.christian       0.96      0.99      0.98       256\n",
      "      talk.politics.guns       0.82      0.91      0.86       234\n",
      "   talk.politics.mideast       0.92      0.85      0.89       259\n",
      "      talk.politics.misc       0.78      0.69      0.74       236\n",
      "      talk.religion.misc       0.70      0.59      0.64       252\n",
      "\n",
      "                accuracy                           0.86      5000\n",
      "               macro avg       0.86      0.86      0.85      5000\n",
      "            weighted avg       0.86      0.86      0.85      5000\n",
      "\n"
     ]
    }
   ],
   "source": [
    "# Demonstrating confusion-matrix and classification report\n",
    "clf = MultinomialNB()\n",
    "clf.fit(X_train_dataset,Y_train)\n",
    "Y_pred = clf.predict(X_test_dataset)\n",
    "print(\"Score on training data:\",clf.score(X_train_dataset,Y_train))\n",
    "print(\"Score on testing data:\",clf.score(X_test_dataset,Y_test))\n",
    "print(confusion_matrix(Y_test,Y_pred))\n",
    "print(classification_report(Y_test,Y_pred))"
   ]
  },
  {
   "cell_type": "markdown",
   "id": "d48a7300",
   "metadata": {},
   "source": [
    "## 2. By Implementing Naive Baye's From Scratch"
   ]
  },
  {
   "cell_type": "code",
   "execution_count": 14,
   "id": "7d34fef6",
   "metadata": {},
   "outputs": [],
   "source": [
    "# Making dictionary for implementing Naive Bayes\n",
    "def fit(x_train_dataset,y_train):\n",
    "    count = {}\n",
    "    total_word = 0\n",
    "    y_train = np.array(y_train)\n",
    "    count[\"total_doc\"] = len(y_train)\n",
    "    classes = set(y_train)\n",
    "    for i in classes:\n",
    "        temp = 0\n",
    "        #selecting x_train corresponding to class present in y_train\n",
    "        x_train_with_i = x_train_dataset[y_train==i]\n",
    "        #finding length of data with category corresponding to i \n",
    "        temp2 = x_train_with_i.shape[0]\n",
    "        count[i] = {}\n",
    "        #Iterating over final_words\n",
    "        for feature in final_words:\n",
    "            #Calculating total word in feature\n",
    "            l = (x_train_with_i[:,final_words.index(feature)]).sum()\n",
    "            count[i][feature] = l\n",
    "            temp+=l\n",
    "        #Total word in that class\n",
    "        count[i][\"word_in_class\"]=temp\n",
    "        #Length of data with y_train belonging to specific class\n",
    "        count[i][\"length\"]=temp2\n",
    "    return count"
   ]
  },
  {
   "cell_type": "code",
   "execution_count": 15,
   "id": "077310ce",
   "metadata": {},
   "outputs": [],
   "source": [
    "def probability(x_test,dic,classes):\n",
    "    prob = np.log(dic[classes][\"length\"])-np.log(dic[\"total_doc\"])\n",
    "    feature = list(dic[classes].keys())\n",
    "    #-2 is done becuase there will be \"length\" and \"word in class\" present in feature. \n",
    "    for j in range(len(feature)-2):\n",
    "        xj = x_test[j]\n",
    "        #If frequency is 0, we will not consider it\n",
    "        if xj==0:\n",
    "            current_prob=0\n",
    "        else:\n",
    "            #Extra addition part is Laplace correction\n",
    "            num = dic[classes][feature[j]]+1\n",
    "            den = dic[classes][\"word_in_class\"] + len(dic[classes].keys())-2\n",
    "            current_prob = np.log(num)-np.log(den)\n",
    "        prob+=current_prob\n",
    "    return prob"
   ]
  },
  {
   "cell_type": "code",
   "execution_count": 32,
   "id": "7e261a28",
   "metadata": {},
   "outputs": [],
   "source": [
    "#Best_class or probable answer will be returned from here\n",
    "def predict_for_single(x_test,dic):\n",
    "    first_run=True\n",
    "    classes = dic.keys()\n",
    "    for i in classes:\n",
    "        if i == \"total_doc\":\n",
    "            continue\n",
    "        prob = probability(x_test,dic,i)\n",
    "        if first_run or prob>best_prob:\n",
    "            best_prob=prob\n",
    "            first_run=False\n",
    "            best_class=i\n",
    "    return best_class\n",
    "        "
   ]
  },
  {
   "cell_type": "code",
   "execution_count": 33,
   "id": "6d0fe276",
   "metadata": {},
   "outputs": [],
   "source": [
    "def predict_(x_test,dic):\n",
    "    y_pred = []\n",
    "    for x in x_test:\n",
    "        y_pred.append(predict_for_single(x,dic))\n",
    "    return y_pred"
   ]
  },
  {
   "cell_type": "code",
   "execution_count": 34,
   "id": "0cd5b134",
   "metadata": {},
   "outputs": [],
   "source": [
    "def score(y_test,y_pred):\n",
    "    count=0\n",
    "    for i in range(len(y_pred)):\n",
    "        if y_pred[i] == y_test[i]:\n",
    "            count+=1\n",
    "    return count/len(y_pred)"
   ]
  },
  {
   "cell_type": "code",
   "execution_count": 35,
   "id": "f1a0896b",
   "metadata": {},
   "outputs": [],
   "source": [
    "dictionary=fit(X_train_dataset,Y_train)\n",
    "y_pred=predict_(X_test_dataset,dictionary)"
   ]
  },
  {
   "cell_type": "code",
   "execution_count": 36,
   "id": "ec1d6ef6",
   "metadata": {},
   "outputs": [
    {
     "name": "stdout",
     "output_type": "stream",
     "text": [
      "Score on testing_data: 0.8696\n",
      "[[235   0   0   0   0   0   1   1   1   1   0   0   2   0   1   1   0   1\n",
      "    0  24]\n",
      " [  0 216  14  12   4   6   3   1   0   0   0   0   3   4   0   0   0   0\n",
      "    0   0]\n",
      " [  0  13 192  22   1  13   3   0   0   0   0   1   0   0   0   0   0   0\n",
      "    0   0]\n",
      " [  0   6   2 198  26   0   4   0   0   0   0   0   5   0   0   0   0   0\n",
      "    0   0]\n",
      " [  0   5   1  14 214   0   4   0   0   0   0   0   0   2   0   0   0   0\n",
      "    0   0]\n",
      " [  0  26  30   5   7 189   2   0   0   0   0   0   2   0   0   0   0   0\n",
      "    0   0]\n",
      " [  0   0   0   5   2   1 231   6   0   0   0   0   4   1   1   0   0   0\n",
      "    0   0]\n",
      " [  0   0   0   0   1   0   7 246   2   0   0   0   4   0   0   0   0   0\n",
      "    0   0]\n",
      " [  0   2   0   0   0   0   1   7 240   0   0   0   0   0   0   0   0   0\n",
      "    0   0]\n",
      " [  0   0   0   0   0   0   1   0   1 258  11   0   0   0   0   0   0   0\n",
      "    0   0]\n",
      " [  0   0   0   0   0   0   0   0   3   7 230   0   0   0   0   0   0   0\n",
      "    0   0]\n",
      " [  0   3   0   0   1   0   0   1   0   0   0 227   2   0   0   0   0   0\n",
      "    1   0]\n",
      " [  0   0   0   0   4   0   3   1   0   0   0   0 231   2   1   0   0   0\n",
      "    0   0]\n",
      " [  0   3   0   0   0   2   4   3   2   0   1   0   7 232   1   0   0   0\n",
      "    0   0]\n",
      " [  0   3   0   0   0   0   3   1   0   0   0   0  11   1 219   0   0   0\n",
      "    3   0]\n",
      " [  0   0   0   0   0   0   0   0   0   0   0   0   0   0   0 254   0   2\n",
      "    0   0]\n",
      " [  0   0   0   0   1   0   0   0   0   0   0   5   0   0   0   0 217   0\n",
      "   10   1]\n",
      " [  1   0   0   0   0   0   1   0   2   0   0   0   0   0   0   0  10 230\n",
      "   15   0]\n",
      " [  0   0   0   0   0   0   1   0   1   2   0   2   0   0   1   0  31   9\n",
      "  172  17]\n",
      " [ 86   1   0   0   0   0   2   0   0   0   0   1   0   0   0   5  20   1\n",
      "   19 117]]\n",
      "                          precision    recall  f1-score   support\n",
      "\n",
      "             alt.atheism       0.73      0.88      0.80       268\n",
      "           comp.graphics       0.78      0.82      0.80       263\n",
      " comp.os.ms-windows.misc       0.80      0.78      0.79       245\n",
      "comp.sys.ibm.pc.hardware       0.77      0.82      0.80       241\n",
      "   comp.sys.mac.hardware       0.82      0.89      0.85       240\n",
      "          comp.windows.x       0.90      0.72      0.80       261\n",
      "            misc.forsale       0.85      0.92      0.89       251\n",
      "               rec.autos       0.92      0.95      0.93       260\n",
      "         rec.motorcycles       0.95      0.96      0.96       250\n",
      "      rec.sport.baseball       0.96      0.95      0.96       271\n",
      "        rec.sport.hockey       0.95      0.96      0.95       240\n",
      "               sci.crypt       0.96      0.97      0.96       235\n",
      "         sci.electronics       0.85      0.95      0.90       242\n",
      "                 sci.med       0.96      0.91      0.93       255\n",
      "               sci.space       0.98      0.91      0.94       241\n",
      "  soc.religion.christian       0.98      0.99      0.98       256\n",
      "      talk.politics.guns       0.78      0.93      0.85       234\n",
      "   talk.politics.mideast       0.95      0.89      0.92       259\n",
      "      talk.politics.misc       0.78      0.73      0.75       236\n",
      "      talk.religion.misc       0.74      0.46      0.57       252\n",
      "\n",
      "                accuracy                           0.87      5000\n",
      "               macro avg       0.87      0.87      0.87      5000\n",
      "            weighted avg       0.87      0.87      0.87      5000\n",
      "\n"
     ]
    }
   ],
   "source": [
    "from sklearn.metrics import classification_report,confusion_matrix,accuracy_score\n",
    "print(\"Score on testing_data:\",score(Y_test,y_pred))\n",
    "print(confusion_matrix(Y_test,y_pred))\n",
    "print(classification_report(Y_test,y_pred))"
   ]
  },
  {
   "cell_type": "code",
   "execution_count": null,
   "id": "baef9d66",
   "metadata": {},
   "outputs": [],
   "source": []
  }
 ],
 "metadata": {
  "kernelspec": {
   "display_name": "Python 3 (ipykernel)",
   "language": "python",
   "name": "python3"
  },
  "language_info": {
   "codemirror_mode": {
    "name": "ipython",
    "version": 3
   },
   "file_extension": ".py",
   "mimetype": "text/x-python",
   "name": "python",
   "nbconvert_exporter": "python",
   "pygments_lexer": "ipython3",
   "version": "3.8.10"
  }
 },
 "nbformat": 4,
 "nbformat_minor": 5
}
